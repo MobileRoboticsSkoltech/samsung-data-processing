{
 "cells": [
  {
   "cell_type": "code",
   "execution_count": 30,
   "id": "f3e30565-6a09-4a4b-89ad-03016a983a82",
   "metadata": {},
   "outputs": [],
   "source": [
    "PREPROCESSED_SEQUENCE_PATH = '/home/bandeja/datasets/samsung-spatial/processed/2022-04-16-12-17-44_round1/'"
   ]
  },
  {
   "cell_type": "code",
   "execution_count": 31,
   "id": "cc430d6f-452e-4ea4-a16a-50b19d600eb6",
   "metadata": {},
   "outputs": [],
   "source": [
    "import cv2\n",
    "import imageio\n",
    "import numpy as np\n",
    "import os\n",
    "import scipy.ndimage\n",
    "import shutil\n",
    "from tqdm import tqdm"
   ]
  },
  {
   "cell_type": "code",
   "execution_count": 32,
   "id": "1bff711b-bf42-4264-abde-2430955b2f27",
   "metadata": {},
   "outputs": [
    {
     "data": {
      "text/plain": [
       "['5s', '3m']"
      ]
     },
     "execution_count": 32,
     "metadata": {},
     "output_type": "execute_result"
    }
   ],
   "source": [
    "camera_folders = [name for name in os.listdir(PREPROCESSED_SEQUENCE_PATH) if os.path.isdir(os.path.join(PREPROCESSED_SEQUENCE_PATH, name))]\n",
    "camera_folders"
   ]
  },
  {
   "cell_type": "code",
   "execution_count": 33,
   "id": "2d38e855-e6b5-468f-911b-b373789846c9",
   "metadata": {},
   "outputs": [
    {
     "name": "stderr",
     "output_type": "stream",
     "text": [
      "100%|██████████| 2/2 [16:09<00:00, 485.00s/it]\n"
     ]
    }
   ],
   "source": [
    "for camera_folder in tqdm(camera_folders):\n",
    "    one_camera_data_path = os.path.join(PREPROCESSED_SEQUENCE_PATH, camera_folder)\n",
    "\n",
    "    bf_postprocessed_path = os.path.join(one_camera_data_path, 'bf')\n",
    "\n",
    "    if os.path.exists(bf_postprocessed_path):\n",
    "        shutil.rmtree(bf_postprocessed_path)\n",
    "\n",
    "    os.mkdir(bf_postprocessed_path)\n",
    "    \n",
    "    with open(os.path.join(one_camera_data_path, 'associations_dense.txt'), 'r') as association_file:\n",
    "        lines = association_file.readlines()\n",
    "        for i, line in enumerate(lines):\n",
    "            _, color_image_rel_path, _, depth_image_rel_path = line.strip().split(' ')\n",
    "\n",
    "            color_image = cv2.imread(os.path.join(one_camera_data_path, color_image_rel_path))\n",
    "            cv2.imwrite(os.path.join(bf_postprocessed_path, 'frame-%06d.color.jpg' % i), color_image)\n",
    "\n",
    "            depth_image = imageio.imread(os.path.join(one_camera_data_path, depth_image_rel_path))\n",
    "            imageio.imwrite(os.path.join(bf_postprocessed_path, 'frame-%06d.depth.png' % i), depth_image // 5)"
   ]
  },
  {
   "cell_type": "code",
   "execution_count": 34,
   "id": "0a81cd52-c46a-448a-b8bb-78ec515b536a",
   "metadata": {},
   "outputs": [
    {
     "name": "stderr",
     "output_type": "stream",
     "text": [
      "100%|██████████| 2/2 [00:00<00:00, 712.47it/s]\n"
     ]
    }
   ],
   "source": [
    "for camera_folder in tqdm(camera_folders):\n",
    "    one_camera_data_path = os.path.join(PREPROCESSED_SEQUENCE_PATH, camera_folder)\n",
    "    K_undist = np.load(os.path.join(one_camera_data_path, 'camera_params.npy'))\n",
    "\n",
    "    new_bundling_config_path = os.path.join(one_camera_data_path, 'bfBundlingConfig.txt')\n",
    "    shutil.copyfile('configs/bfBundlingConfig.txt', new_bundling_config_path)\n",
    "\n",
    "    new_params_config_path = os.path.join(one_camera_data_path, 'bfParametersConfig.txt')\n",
    "    shutil.copyfile('configs/bfParametersConfig.txt', new_params_config_path)\n",
    "\n",
    "    with open(new_params_config_path, 'r') as f:\n",
    "        lines = f.readlines()\n",
    "        lines[117] = 's_cameraIntrinsicFx = {};\\n'.format(K_undist[0, 0])\n",
    "        lines[118] = 's_cameraIntrinsicFy = {};\\n'.format(K_undist[1, 1])\n",
    "        lines[119] = 's_cameraIntrinsicCx = {};\\n'.format(K_undist[0, 2])\n",
    "        lines[120] = 's_cameraIntrinsicCy = {};\\n'.format(K_undist[1, 2])\n",
    "        \n",
    "    with open(new_params_config_path, 'w') as f:\n",
    "        f.writelines(lines)"
   ]
  },
  {
   "cell_type": "code",
   "execution_count": null,
   "id": "acfb1700-2fa6-44d4-8b65-b993a26f3220",
   "metadata": {},
   "outputs": [],
   "source": []
  }
 ],
 "metadata": {
  "kernelspec": {
   "display_name": "Python 3",
   "language": "python",
   "name": "python3"
  },
  "language_info": {
   "codemirror_mode": {
    "name": "ipython",
    "version": 3
   },
   "file_extension": ".py",
   "mimetype": "text/x-python",
   "name": "python",
   "nbconvert_exporter": "python",
   "pygments_lexer": "ipython3",
   "version": "3.6.9"
  }
 },
 "nbformat": 4,
 "nbformat_minor": 5
}
