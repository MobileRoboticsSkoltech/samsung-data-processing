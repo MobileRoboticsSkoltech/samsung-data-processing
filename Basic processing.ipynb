{
 "cells": [
  {
   "cell_type": "markdown",
   "id": "6da669a4-f30b-4d57-b340-c283502ab356",
   "metadata": {},
   "source": [
    "### Basic processing of Samsung data from Azure cameras\n",
    "\n",
    "It includes undistortion of color and depth images and reprojection of depth image to undistrorted color virtual camera.\n",
    "\n",
    "Parameters to set: `SEQUENCE_PATH` - path for recorded sequence, `OUTPUT_DIR` - where postprocessed data will be located.\n",
    "\n",
    "**Attention**: calibration file `calib_params.yaml` for every camera should be located in original camera data directories."
   ]
  },
  {
   "cell_type": "code",
   "execution_count": 18,
   "id": "10d3a173-38a2-4b7a-abb4-82f2a85dc42d",
   "metadata": {},
   "outputs": [],
   "source": [
    "import cv2\n",
    "import imageio\n",
    "import os\n",
    "import numpy as np\n",
    "import scipy.ndimage\n",
    "import shutil\n",
    "\n",
    "from tqdm import tqdm\n",
    "\n",
    "from utils.io_utils import filename_to_seconds\n",
    "from utils.calib_io_utils import load_azure_params\n",
    "from utils.cv_utils import undistort_image, reproject_depth"
   ]
  },
  {
   "cell_type": "code",
   "execution_count": 21,
   "id": "26e668be-ceda-4694-9514-a595d16f4cf6",
   "metadata": {},
   "outputs": [],
   "source": [
    "SEQUENCE_PATH = '/home/bandeja/datasets/samsung-spatial/2022-04-16-12-15-47_round0/'\n",
    "OUTPUT_DIR = '/home/bandeja/datasets/samsung-spatial/processed/'"
   ]
  },
  {
   "cell_type": "markdown",
   "id": "2ccca8bf-0dcb-470f-a622-8dc60075de6c",
   "metadata": {},
   "source": [
    "### List recorded cameras"
   ]
  },
  {
   "cell_type": "code",
   "execution_count": 22,
   "id": "e4862016-0023-4752-818e-2cf4707e399f",
   "metadata": {},
   "outputs": [
    {
     "data": {
      "text/plain": [
       "['5s', '3m']"
      ]
     },
     "execution_count": 22,
     "metadata": {},
     "output_type": "execute_result"
    }
   ],
   "source": [
    "camera_names = os.listdir(SEQUENCE_PATH)\n",
    "camera_names"
   ]
  },
  {
   "cell_type": "markdown",
   "id": "1b394bb3-aab5-4209-80d8-68fbb71f8153",
   "metadata": {},
   "source": [
    "### Prepare infrastructure for postprocessed data"
   ]
  },
  {
   "cell_type": "code",
   "execution_count": 23,
   "id": "3dc3e95d-26af-4aea-a2d5-b5489a6c5979",
   "metadata": {},
   "outputs": [],
   "source": [
    "dataset_basedir = os.path.basename(os.path.normpath(SEQUENCE_PATH))\n",
    "postprocessed_data_dir = os.path.join(OUTPUT_DIR, dataset_basedir)\n",
    "\n",
    "if os.path.exists(postprocessed_data_dir):\n",
    "    shutil.rmtree(postprocessed_data_dir)\n",
    "    \n",
    "os.mkdir(postprocessed_data_dir)\n",
    "\n",
    "for camera_name in camera_names:\n",
    "    os.mkdir(os.path.join(postprocessed_data_dir, camera_name))\n",
    "    os.mkdir(os.path.join(postprocessed_data_dir, camera_name, 'color'))\n",
    "    os.mkdir(os.path.join(postprocessed_data_dir, camera_name, 'depth'))\n",
    "    os.mkdir(os.path.join(postprocessed_data_dir, camera_name, 'depth_dense'))"
   ]
  },
  {
   "cell_type": "code",
   "execution_count": 24,
   "id": "cb4cc284-6c8d-482f-a32c-3510b75f6d32",
   "metadata": {},
   "outputs": [],
   "source": [
    "def smooth_depth(depth_image):\n",
    "    import numpy as np\n",
    "    KERNEL_SIZE = 11\n",
    "    MAX_DEPTH_VAL = 1e10\n",
    "    \n",
    "    depth_image[depth_image == 0] = MAX_DEPTH_VAL\n",
    "    smoothed_depth = scipy.ndimage.minimum_filter(depth_image, KERNEL_SIZE)\n",
    "    smoothed_depth[smoothed_depth > 30000] = 0\n",
    "    return smoothed_depth"
   ]
  },
  {
   "cell_type": "markdown",
   "id": "b0556619-dc87-41d3-b6ba-fa78c5e41b91",
   "metadata": {},
   "source": [
    "### Iterate over cameras and do undistortion and reprojection "
   ]
  },
  {
   "cell_type": "code",
   "execution_count": 25,
   "id": "d7364fda-9a92-4608-a4e5-17e6888afa1f",
   "metadata": {},
   "outputs": [
    {
     "name": "stderr",
     "output_type": "stream",
     "text": [
      "100%|██████████| 1700/1700 [43:57<00:00,  1.55s/it]\n",
      "100%|██████████| 1698/1698 [23:12<00:00,  1.22it/s]\n",
      "100%|██████████| 1699/1699 [36:57<00:00,  1.30s/it] \n",
      "100%|██████████| 1697/1697 [19:01<00:00,  1.49it/s]\n"
     ]
    }
   ],
   "source": [
    "for camera_name in camera_names:\n",
    "    camera_data_path = os.path.join(SEQUENCE_PATH, camera_name)\n",
    "    azure_calib_path = os.path.join(camera_data_path, 'calib_params.json')\n",
    "\n",
    "    color_camera, depth_camera, T_depth2color = load_azure_params(azure_calib_path)\n",
    "    np.save(os.path.join(postprocessed_data_dir, camera_name, 'camera_params.npy'), color_camera.K_undist)\n",
    "\n",
    "    color_images_dir = os.path.join(camera_data_path, 'color')\n",
    "    color_image_names = os.listdir(color_images_dir)\n",
    "    color_image_names.sort()\n",
    "    postprocessed_color_dir = os.path.join(postprocessed_data_dir, camera_name, 'color')\n",
    "\n",
    "    for color_image_name in tqdm(color_image_names):\n",
    "        image = cv2.imread(os.path.join(color_images_dir, color_image_name), -1)\n",
    "        undistorted_image = undistort_image(image, color_camera)\n",
    "        new_color_image_name = filename_to_seconds(color_image_name)\n",
    "        imageio.imwrite(os.path.join(postprocessed_color_dir, new_color_image_name), image)\n",
    "\n",
    "    depth_images_dir = os.path.join(camera_data_path, 'depth')\n",
    "    depth_image_names = os.listdir(depth_images_dir)\n",
    "    depth_image_names.sort()\n",
    "    postprocessed_depth_dir = os.path.join(postprocessed_data_dir, camera_name, 'depth')\n",
    "    postprocessed_depth_dense_dir = os.path.join(postprocessed_data_dir, camera_name, 'depth_dense')\n",
    "\n",
    "    for depth_image_name in tqdm(depth_image_names):\n",
    "        image = cv2.imread(os.path.join(depth_images_dir, depth_image_name), -1)\n",
    "        undistorted_image = undistort_image(image, depth_camera)\n",
    "        reprojected_image = reproject_depth(undistorted_image, depth_camera, color_camera, T_depth2color)\n",
    "        new_depth_image_name = filename_to_seconds(depth_image_name)\n",
    "        imageio.imwrite(os.path.join(postprocessed_depth_dir, new_depth_image_name), reprojected_image)\n",
    "        imageio.imwrite(os.path.join(postprocessed_depth_dense_dir, new_depth_image_name), smooth_depth(reprojected_image))"
   ]
  },
  {
   "cell_type": "code",
   "execution_count": null,
   "id": "c6f51e69-ef0f-40b8-8139-a53d7c33ba9f",
   "metadata": {},
   "outputs": [],
   "source": []
  }
 ],
 "metadata": {
  "kernelspec": {
   "display_name": "Python 3",
   "language": "python",
   "name": "python3"
  },
  "language_info": {
   "codemirror_mode": {
    "name": "ipython",
    "version": 3
   },
   "file_extension": ".py",
   "mimetype": "text/x-python",
   "name": "python",
   "nbconvert_exporter": "python",
   "pygments_lexer": "ipython3",
   "version": "3.6.9"
  }
 },
 "nbformat": 4,
 "nbformat_minor": 5
}
