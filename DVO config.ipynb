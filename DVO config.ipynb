{
 "cells": [
  {
   "cell_type": "code",
   "execution_count": 24,
   "id": "592949e2-2689-4e9c-90a2-ab08dede8d97",
   "metadata": {},
   "outputs": [],
   "source": [
    "PREPROCESSED_SEQUENCE_PATH = '/home/bandeja/datasets/samsung-spatial/processed/2022-06-29-16-32-57_big_run_1_5fps/'"
   ]
  },
  {
   "cell_type": "code",
   "execution_count": 25,
   "id": "888d1905-7246-4f64-a212-222554a4165f",
   "metadata": {},
   "outputs": [],
   "source": [
    "import cv2\n",
    "import numpy as np\n",
    "import os\n",
    "from pathlib import Path"
   ]
  },
  {
   "cell_type": "code",
   "execution_count": 26,
   "id": "edec0c7b-7d6f-4c75-954f-f4aec274ac8b",
   "metadata": {},
   "outputs": [
    {
     "data": {
      "text/plain": [
       "['4s', '1s', '2s', '3m']"
      ]
     },
     "execution_count": 26,
     "metadata": {},
     "output_type": "execute_result"
    }
   ],
   "source": [
    "camera_folders = [name for name in os.listdir(PREPROCESSED_SEQUENCE_PATH) if os.path.isdir(os.path.join(PREPROCESSED_SEQUENCE_PATH, name))]\n",
    "camera_folders"
   ]
  },
  {
   "cell_type": "markdown",
   "id": "c6e53f2e-ec3f-4970-bc37-8a6a0262b20f",
   "metadata": {},
   "source": [
    "### Create DVO configs"
   ]
  },
  {
   "cell_type": "code",
   "execution_count": 27,
   "id": "f1fc972a-96f8-489c-903e-6855bb4dbe6a",
   "metadata": {},
   "outputs": [],
   "source": [
    "import shutil\n",
    "\n",
    "for camera_folder in camera_folders:\n",
    "    one_camera_data_path = os.path.join(PREPROCESSED_SEQUENCE_PATH, camera_folder)\n",
    "    K_undist = np.load(os.path.join(one_camera_data_path, 'camera_params.npy'))\n",
    "\n",
    "    new_config_path = os.path.join(one_camera_data_path, 'dvo.launch')\n",
    "    shutil.copyfile('configs/dvo.launch', new_config_path)\n",
    "\n",
    "    with open(new_config_path, 'r') as f:\n",
    "        lines = f.readlines()\n",
    "        lines[32] = '    <param type=\"double\" name=\"fx\" value=\"{0}\" />\\n'.format(K_undist[0, 0])\n",
    "        lines[33] = '    <param type=\"double\" name=\"fy\" value=\"{0}\" />\\n'.format(K_undist[1, 1])\n",
    "        lines[34] = '    <param type=\"double\" name=\"cx\" value=\"{0}\" />\\n'.format(K_undist[0, 2])\n",
    "        lines[35] = '    <param type=\"double\" name=\"cy\" value=\"{0}\" />\\n'.format(K_undist[1, 2])\n",
    "\n",
    "    with open(new_config_path, 'w') as f:\n",
    "        f.writelines(lines)\n",
    "    \n",
    "    # DVO has hardcoded assocation file name (and also requires dense data)\n",
    "    shutil.copyfile(os.path.join(one_camera_data_path, 'associations_dense.txt'), \n",
    "                    os.path.join(one_camera_data_path, 'assoc.txt'))"
   ]
  },
  {
   "cell_type": "code",
   "execution_count": null,
   "id": "d273d736-61e5-4b15-9516-db49d07e5300",
   "metadata": {},
   "outputs": [],
   "source": []
  }
 ],
 "metadata": {
  "kernelspec": {
   "display_name": "Python 3",
   "language": "python",
   "name": "python3"
  },
  "language_info": {
   "codemirror_mode": {
    "name": "ipython",
    "version": 3
   },
   "file_extension": ".py",
   "mimetype": "text/x-python",
   "name": "python",
   "nbconvert_exporter": "python",
   "pygments_lexer": "ipython3",
   "version": "3.6.9"
  }
 },
 "nbformat": 4,
 "nbformat_minor": 5
}
