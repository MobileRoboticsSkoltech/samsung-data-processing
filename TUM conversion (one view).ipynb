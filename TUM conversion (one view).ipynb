{
 "cells": [
  {
   "cell_type": "code",
   "execution_count": 7,
   "id": "592949e2-2689-4e9c-90a2-ab08dede8d97",
   "metadata": {},
   "outputs": [],
   "source": [
    "PREPROCESSED_SEQUENCE_PATH = '/home/bandeja/datasets/samsung-spatial/processed/2022-04-16-12-17-44_round1/'"
   ]
  },
  {
   "cell_type": "code",
   "execution_count": 8,
   "id": "888d1905-7246-4f64-a212-222554a4165f",
   "metadata": {},
   "outputs": [],
   "source": [
    "import cv2\n",
    "import numpy as np\n",
    "import os\n",
    "from pathlib import Path"
   ]
  },
  {
   "cell_type": "markdown",
   "id": "4cb81d62-1c7c-43cf-be44-14ed4ce2c297",
   "metadata": {},
   "source": [
    "### Assoсiate color and depth timestamps"
   ]
  },
  {
   "cell_type": "code",
   "execution_count": 9,
   "id": "8ee3a09a-8851-4943-8055-f8028cf8155b",
   "metadata": {},
   "outputs": [],
   "source": [
    "def read_folder(path_to_folder: str):\n",
    "    \"\"\"\n",
    "    Reads all images' paths and timestamps from folder\n",
    "    :param path_to_folder: path to folder to read\n",
    "    :return: dictionary where keys are timestamps and values are path to image\n",
    "    \"\"\"\n",
    "    files = os.listdir(path_to_folder)\n",
    "    timestamps = [float(Path(file).stem) for file in files]\n",
    "    files = [os.path.join(os.path.basename(path_to_folder), x) for x in files]\n",
    "    timestamp_image_kvp = dict(zip(timestamps, files))\n",
    "    return timestamp_image_kvp\n",
    "\n",
    "\n",
    "def associate(\n",
    "    color_images: dict, depth_images: dict, offset: float, max_difference: float\n",
    ") -> list:\n",
    "    \"\"\"\n",
    "    Associates color and depth images\n",
    "    :param color_images: (timestamp, path) KVP for color images\n",
    "    :param depth_images: (timestamp, path) KVP for depth images\n",
    "    :param offset: time offset added to the timestamps of the depth images\n",
    "    :param max_difference: maximally allowed time difference for matching entries\n",
    "    :return: best matches for color and depth images\n",
    "    \"\"\"\n",
    "    first_keys = np.asarray(list(color_images.keys()))\n",
    "    second_keys = np.asarray(list(depth_images.keys()))\n",
    "    best_matches = list()\n",
    "    for timestamp in first_keys:\n",
    "        best_match = second_keys[np.argmin(np.abs(second_keys + offset - timestamp))]\n",
    "        if abs(best_match + offset - timestamp) < max_difference:\n",
    "            best_matches.append((timestamp, best_match))\n",
    "    return sorted(best_matches)\n",
    "\n",
    "def create_association_files(camera_data_path, sync_1_ts, sync_2_ts):\n",
    "    color_list = read_folder(os.path.join(camera_data_path, 'color'))\n",
    "    depth_list = read_folder(os.path.join(camera_data_path, 'depth'))\n",
    "    depth_dense_list = read_folder(os.path.join(camera_data_path, 'depth_dense'))\n",
    "\n",
    "    matches_depth = associate(color_list, depth_list, 0, 1e-3)\n",
    "    matches_depth_dense = associate(color_list, depth_dense_list, 0, 1e-3)\n",
    "\n",
    "    with open(os.path.join(camera_data_path, 'associations.txt'), 'w') as f:\n",
    "        for (a, b) in matches_depth:\n",
    "            # Filter timestamps where shaking is performed\n",
    "            if a > sync_1_ts and a < sync_2_ts:\n",
    "                f.write('{0} {1} {2} {3}\\n'.format(\n",
    "                    a,\n",
    "                    color_list[a],\n",
    "                    b,\n",
    "                    depth_list[b]\n",
    "                ))\n",
    "                \n",
    "    with open(os.path.join(camera_data_path, 'associations_dense.txt'), 'w') as f:\n",
    "        for (a, b) in matches_depth_dense:\n",
    "            # Filter timestamps where shaking is performed\n",
    "            if a > sync_1_ts and a < sync_2_ts:\n",
    "                f.write('{0} {1} {2} {3}\\n'.format(\n",
    "                    a,\n",
    "                    color_list[a],\n",
    "                    b,\n",
    "                    depth_dense_list[b]\n",
    "                ))"
   ]
  },
  {
   "cell_type": "code",
   "execution_count": 10,
   "id": "edec0c7b-7d6f-4c75-954f-f4aec274ac8b",
   "metadata": {},
   "outputs": [
    {
     "data": {
      "text/plain": [
       "['5s', '3m']"
      ]
     },
     "execution_count": 10,
     "metadata": {},
     "output_type": "execute_result"
    }
   ],
   "source": [
    "camera_folders = [name for name in os.listdir(PREPROCESSED_SEQUENCE_PATH) if os.path.isdir(os.path.join(PREPROCESSED_SEQUENCE_PATH, name))]\n",
    "camera_folders"
   ]
  },
  {
   "cell_type": "code",
   "execution_count": 11,
   "id": "a58bc1b1-f054-454e-a347-83a81a6ba6c8",
   "metadata": {},
   "outputs": [],
   "source": [
    "for camera_folder in camera_folders:\n",
    "    create_association_files(os.path.join(PREPROCESSED_SEQUENCE_PATH, camera_folder), 8, 48)"
   ]
  },
  {
   "cell_type": "markdown",
   "id": "c6e53f2e-ec3f-4970-bc37-8a6a0262b20f",
   "metadata": {},
   "source": [
    "### Create ORB configs"
   ]
  },
  {
   "cell_type": "code",
   "execution_count": 12,
   "id": "f1fc972a-96f8-489c-903e-6855bb4dbe6a",
   "metadata": {},
   "outputs": [],
   "source": [
    "import shutil\n",
    "\n",
    "for camera_folder in camera_folders:\n",
    "    one_camera_data_path = os.path.join(PREPROCESSED_SEQUENCE_PATH, camera_folder)\n",
    "    K_undist = np.load(os.path.join(one_camera_data_path, 'camera_params.npy'))\n",
    "\n",
    "    new_config_path = os.path.join(one_camera_data_path, 'ORB_one_view_config.yaml')\n",
    "    shutil.copyfile('configs/ORB_one_view_config.yaml', new_config_path)\n",
    "\n",
    "    with open(new_config_path, 'r') as f:\n",
    "        lines = f.readlines()\n",
    "        lines[10] = 'Camera1.fx: {}\\n'.format(K_undist[0, 0])\n",
    "        lines[11] = 'Camera1.fy: {}\\n'.format(K_undist[1, 1])\n",
    "        lines[12] = 'Camera1.cx: {}\\n'.format(K_undist[0, 2])\n",
    "        lines[13] = 'Camera1.cy: {}\\n'.format(K_undist[1, 2])\n",
    "\n",
    "    with open(new_config_path, 'w') as f:\n",
    "        f.writelines(lines)"
   ]
  },
  {
   "cell_type": "code",
   "execution_count": null,
   "id": "c61ce415-5372-47ff-bcb0-789825217301",
   "metadata": {},
   "outputs": [],
   "source": []
  }
 ],
 "metadata": {
  "kernelspec": {
   "display_name": "Python 3",
   "language": "python",
   "name": "python3"
  },
  "language_info": {
   "codemirror_mode": {
    "name": "ipython",
    "version": 3
   },
   "file_extension": ".py",
   "mimetype": "text/x-python",
   "name": "python",
   "nbconvert_exporter": "python",
   "pygments_lexer": "ipython3",
   "version": "3.6.9"
  }
 },
 "nbformat": 4,
 "nbformat_minor": 5
}
